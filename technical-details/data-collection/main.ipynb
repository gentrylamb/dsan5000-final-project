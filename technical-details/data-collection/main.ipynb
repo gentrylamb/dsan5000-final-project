{
 "cells": [
  {
   "cell_type": "markdown",
   "metadata": {},
   "source": [
    "---\n",
    "title: \"Data Collection\"\n",
    "format:\n",
    "    html: \n",
    "        code-fold: false\n",
    "---"
   ]
  },
  {
   "cell_type": "markdown",
   "metadata": {},
   "source": [
    "{{< include instructions.qmd >}} "
   ]
  },
  {
   "cell_type": "markdown",
   "metadata": {},
   "source": [
    "\n",
    "{{< include overview.qmd >}} "
   ]
  },
  {
   "cell_type": "markdown",
   "metadata": {},
   "source": [
    "{{< include methods.qmd >}} "
   ]
  },
  {
   "cell_type": "markdown",
   "metadata": {},
   "source": [
    "# Code \n",
    "\n",
    "In the following code, we first utilized the requests library to retrieve the HTML content from the Wikipedia page. Afterward, we employed BeautifulSoup to parse the HTML and locate the specific table of interest by using the find function. Once the table was identified, we extracted the relevant data by iterating through its rows, gathering country names and their respective populations. Finally, we used Pandas to store the collected data in a DataFrame, allowing for easy analysis and visualization. The data could also be optionally saved as a CSV file for further use. \n",
    "\n",
    "The code in this section was largely manipulated from @Pfalzgraf_2020_selenium walkthough in scraping data for NBA players. "
   ]
  },
  {
   "cell_type": "code",
   "execution_count": 1,
   "metadata": {},
   "outputs": [],
   "source": [
    "# IMPORTS\n",
    "from selenium import webdriver\n",
    "from selenium.webdriver.common.by import By\n",
    "from selenium.webdriver.chrome.options import Options\n",
    "import pandas as pd"
   ]
  },
  {
   "cell_type": "code",
   "execution_count": 2,
   "metadata": {},
   "outputs": [],
   "source": [
    "# CONFIGURE DRIVER\n",
    "# Initiate options object and configure chrome settings to run headless (without GUI)\n",
    "# ChatGPT helped address error with Chrome crashing upon startup\n",
    "chrome_options = Options()\n",
    "chrome_options.add_argument(\"--headless\")  # Run in headless mode\n",
    "chrome_options.add_argument(\"--no-sandbox\")\n",
    "chrome_options.add_argument(\"--disable-dev-shm-usage\")\n",
    "# Define path to driver\n",
    "DRIVER_PATH = '/home/gentry/.cache/selenium/chromedriver/linux64/131.0.6778.85/chromedriver'\n",
    "# Use the path to the chromedriver to set a service object\n",
    "cService = webdriver.ChromeService(executable_path=DRIVER_PATH)\n",
    "# Pass service object to make a driver object\n",
    "driver = webdriver.Chrome(service=cService, options=chrome_options)\n",
    "\n",
    "# Use driver to access the bike path website\n",
    "driver.get('http://bikewashington.org/routes/all.htm')"
   ]
  },
  {
   "cell_type": "code",
   "execution_count": 3,
   "metadata": {},
   "outputs": [
    {
     "name": "stdout",
     "output_type": "stream",
     "text": [
      "                             name  \\\n",
      "0                    Potomac Tour   \n",
      "1                       BWI Trail   \n",
      "2                  Airpark Cruise   \n",
      "3              Seneca Valley Tour   \n",
      "4                   For The Boyds   \n",
      "5                  Key Chain Tour   \n",
      "6          The Arlington Triangle   \n",
      "7              Mount Vernon Trail   \n",
      "8                 Gettysburg Tour   \n",
      "9                  The Zoo Review   \n",
      "10      Antietam Battlefield Tour   \n",
      "11                Thurmont Ramble   \n",
      "12                        Wye Not   \n",
      "13              Lost Blossom Tour   \n",
      "14  Patuxent Wildlife Center Loop   \n",
      "15        Western Montgomery Loop   \n",
      "16                Peach Tree Loop   \n",
      "17                    Oxford Loop   \n",
      "18            A Ride to the Falls   \n",
      "19           Montgomery Lake Tour   \n",
      "20        Shenandoah River Ramble   \n",
      "21      The Great Washington Loop   \n",
      "22               Chesapeake Bound   \n",
      "23         Waterford Double-Cross   \n",
      "24            South Mountain Loop   \n",
      "25       Mason-Dixon Double-Cross   \n",
      "26               Greenbelt to Bay   \n",
      "27    Northern Central Rail Trail   \n",
      "28                Little Fletcher   \n",
      "29                W&OD Rail Trail   \n",
      "30            North to Gettysburg   \n",
      "31        Washington to Baltimore   \n",
      "32       Sugarloaf Challenge Loop   \n",
      "33              The Fletcher Loop   \n",
      "34       The Blue Ridge Challenge   \n",
      "35                 DC to Thurmont   \n",
      "36                     Super Nova   \n",
      "37                 The WODCO Loop   \n",
      "38            Tour Between Cities   \n",
      "39  Tkaczyk's All Terrain Century   \n",
      "40                  Skyline Drive   \n",
      "41                   Bay-to-Beach   \n",
      "42                    C&O Towpath   \n",
      "\n",
      "                                          description terrain traffic scenery  \n",
      "0   D.C. - A nice short tour of the downtown water...       1       2       2  \n",
      "1        Glen Burnie - Paved trail around BWI Airport       2       1       3  \n",
      "2   Gaithersburg - Short workout route around Mont...       3       3       3  \n",
      "3   Germantown - A short workout route around Grea...       3       3       2  \n",
      "4   Germantown - A short workout route through Boy...       2       3       2  \n",
      "5   Arlington - Nice short ride out the C&O Towpat...       3       3       2  \n",
      "6   Arlington - Park your car at Roosevelt Island ...       2       2       3  \n",
      "7   Washington/Mount Vernon - Wonderful bike trail...       2       1       1  \n",
      "8   Gettysburg, PA - A great ride around the famou...       3       3       1  \n",
      "9   Georgetown/Bethesda - An excellent weekend rid...       1       2       2  \n",
      "10  Sharpsburg, MD - A nice ride through the battl...       3       2       1  \n",
      "11  Thurmont, MD - Very nice tour of the valley at...       3       2       1  \n",
      "12  Wye Mills, MD (Eastern Shore) - An easy ride t...       1       2       2  \n",
      "13  Northwest DC - Tour some lesser known Cherry B...       2       3       2  \n",
      "14  Greenbelt MD - Popular Ride from Greenbelt Met...       2       3       2  \n",
      "15  Poolesville, MD - Nice easy tour of Western Mo...       2       2       2  \n",
      "16  Poolesville, MD - Open road tour of various or...       3       2       1  \n",
      "17  Easton, MD - Excellent loop ride on the Easter...       1       2       1  \n",
      "18  Georgetown - A very popular ride out to Great ...       1       1       2  \n",
      "19  Gaithersburg - This quick jaunt around Gaither...       3       3       3  \n",
      "20  Berryville - A beautiful ride way, way out in ...       3       1       1  \n",
      "21  D.C. - A great tour of Washington's varied nei...       2       3       3  \n",
      "22  Eastern Suburbs - A fairly direct route to the...       3       4       3  \n",
      "23  Whites Ferry, MD - Crosses the Potomac River t...       3       3       1  \n",
      "24  Brunswick, MD - A great ride around historic S...       4       2       1  \n",
      "25  Hagerstown, MD - A beautiful ride through the ...       3       3       1  \n",
      "26  Eastern Suburbs - A more \"bike friendlier\" rou...       3       3       3  \n",
      "27  Ashland/York - Excellent rail trail between Ba...       1       1       1  \n",
      "28  Georgetown/Rockville - A shorter version of th...       3       4       2  \n",
      "29  Washington/Purcellville - A great rail trail t...       1       2       1  \n",
      "30  Thurmont, MD - Great loop out to Gettysburg Ba...       3       2       1  \n",
      "31  North Eastern Suburbs - The often requested ro...       3       3       3  \n",
      "32  Poolesville, MD - Great tour of area around Su...       4       2       1  \n",
      "33  Georgetown/Gaithersburg - A great route from G...       2       3       2  \n",
      "34  Marshall, VA - They don't come much tougher th...       5       3       1  \n",
      "35  Northern Suburbs - A \"no nonsense\" route to th...       3       4       2  \n",
      "36  Northern Virginia - This challenging route sho...       3       3       3  \n",
      "37  Western Suburbs - This monster trail is real e...       1       3       2  \n",
      "38  Northeast Suburbs - A great route between Gree...       3       4       2  \n",
      "39  Western Suburbs - An even longer version of th...       2       3       2  \n",
      "40  Front Royal, VA - Very tough ride through Shen...       5       4       1  \n",
      "41  Kent Island, MD - Bike to the beach and leave ...       2       3       1  \n",
      "42  Washington/Cumberland - One of the best off-ro...       1       1       1  \n"
     ]
    }
   ],
   "source": [
    "# Use Xpath's (found using inspect in website) to locate instances of data we want\n",
    "# Search for instances of bike path names \n",
    "names = driver.find_elements(By.XPATH, '//td/a')\n",
    "# Search for instances of bike path descriptions \n",
    "descriptions = driver.find_elements(By.XPATH, '//td[@colspan=\"3\"]')\n",
    "# Search for instances of bike path ratings \n",
    "ratings = driver.find_elements(By.XPATH, \"//tr[td/b[text()='Traffic:']]\")\n",
    "\n",
    "# Grab text from searched objects and turn them into lists\n",
    "bike_path_names = [name.text for name in names]\n",
    "bike_path_descriptions = [description.text for description in descriptions]\n",
    "bike_path_ratings = [rating.text for rating in ratings]\n",
    "\n",
    "# Since they are all ordered the same, we can combine into a single data frame. \n",
    "df = pd.DataFrame({'name':bike_path_names, 'description':bike_path_descriptions, 'ratings': bike_path_ratings})\n",
    "# Extract ratings into their own columns leveraging regex pattern in strings\n",
    "df[['terrain','traffic','scenery']] = df['ratings'].str.extract(r'Terrain: (\\d+) Traffic: (\\d+) Scenery: (\\d+)')\n",
    "# Drop ratings column \n",
    "df = df.drop(columns=['ratings'])\n",
    "\n",
    "# Display the scraped data\n",
    "print(df)\n",
    "# save to CSV\n",
    "df.to_csv('../../data/raw-data/dc_bike_routes.csv', index=False)"
   ]
  },
  {
   "cell_type": "markdown",
   "metadata": {},
   "source": [
    "{{< include closing.qmd >}} "
   ]
  }
 ],
 "metadata": {
  "kernelspec": {
   "display_name": "base",
   "language": "python",
   "name": "python3"
  },
  "language_info": {
   "codemirror_mode": {
    "name": "ipython",
    "version": 3
   },
   "file_extension": ".py",
   "mimetype": "text/x-python",
   "name": "python",
   "nbconvert_exporter": "python",
   "pygments_lexer": "ipython3",
   "version": "3.12.5"
  }
 },
 "nbformat": 4,
 "nbformat_minor": 2
}
