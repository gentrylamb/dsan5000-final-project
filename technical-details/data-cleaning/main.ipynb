{
 "cells": [
  {
   "cell_type": "markdown",
   "metadata": {},
   "source": [
    "---\n",
    "title: \"Data Cleaning\"\n",
    "format:\n",
    "    html: \n",
    "        code-fold: false\n",
    "---"
   ]
  },
  {
   "cell_type": "markdown",
   "metadata": {},
   "source": [
    "<!-- After digesting the instructions, you can delete this cell, these are assignment instructions and do not need to be included in your final submission.  -->\n",
    "\n",
    "{{< include instructions.qmd >}} "
   ]
  },
  {
   "cell_type": "markdown",
   "metadata": {},
   "source": [
    "# Code "
   ]
  },
  {
   "cell_type": "code",
   "execution_count": 1,
   "metadata": {},
   "outputs": [
    {
     "ename": "FileNotFoundError",
     "evalue": "[Errno 2] No such file or directory: '../../data/raw-data/dc_bike_routes.csv'",
     "output_type": "error",
     "traceback": [
      "\u001b[1;31m---------------------------------------------------------------------------\u001b[0m",
      "\u001b[1;31mFileNotFoundError\u001b[0m                         Traceback (most recent call last)",
      "Cell \u001b[1;32mIn[1], line 8\u001b[0m\n\u001b[0;32m      6\u001b[0m distances \u001b[38;5;241m=\u001b[39m [\u001b[38;5;241m10\u001b[39m,\u001b[38;5;241m11\u001b[39m,\u001b[38;5;241m12\u001b[39m,\u001b[38;5;241m13\u001b[39m,\u001b[38;5;241m14\u001b[39m,\u001b[38;5;241m16\u001b[39m,\u001b[38;5;241m17\u001b[39m,\u001b[38;5;241m18\u001b[39m,\u001b[38;5;241m19\u001b[39m,\u001b[38;5;241m20\u001b[39m,\u001b[38;5;241m21\u001b[39m,\u001b[38;5;241m23\u001b[39m,\u001b[38;5;241m23\u001b[39m,\u001b[38;5;241m24\u001b[39m,\u001b[38;5;241m25\u001b[39m,\u001b[38;5;241m25\u001b[39m,\u001b[38;5;241m25\u001b[39m,\u001b[38;5;241m26\u001b[39m,\u001b[38;5;241m27\u001b[39m,\u001b[38;5;241m27\u001b[39m,\u001b[38;5;241m27\u001b[39m,\u001b[38;5;241m30\u001b[39m,\u001b[38;5;241m33\u001b[39m,\u001b[38;5;241m34\u001b[39m,\u001b[38;5;241m37\u001b[39m,\u001b[38;5;241m38\u001b[39m,\u001b[38;5;241m38\u001b[39m,\u001b[38;5;241m40\u001b[39m,\u001b[38;5;241m44\u001b[39m,\u001b[38;5;241m45\u001b[39m,\u001b[38;5;241m46\u001b[39m,\u001b[38;5;241m47\u001b[39m,\u001b[38;5;241m50\u001b[39m,\u001b[38;5;241m55\u001b[39m,\u001b[38;5;241m56\u001b[39m,\u001b[38;5;241m67\u001b[39m,\u001b[38;5;241m72\u001b[39m,\u001b[38;5;241m75\u001b[39m,\u001b[38;5;241m80\u001b[39m,\u001b[38;5;241m104\u001b[39m,\u001b[38;5;241m105\u001b[39m,\u001b[38;5;241m106\u001b[39m,\u001b[38;5;241m184\u001b[39m]\n\u001b[0;32m      7\u001b[0m \u001b[38;5;66;03m# Read in data\u001b[39;00m\n\u001b[1;32m----> 8\u001b[0m df \u001b[38;5;241m=\u001b[39m pd\u001b[38;5;241m.\u001b[39mread_csv(\u001b[38;5;124m'\u001b[39m\u001b[38;5;124m../../data/raw-data/dc_bike_routes.csv\u001b[39m\u001b[38;5;124m'\u001b[39m)\n\u001b[0;32m      9\u001b[0m df[\u001b[38;5;124m'\u001b[39m\u001b[38;5;124mdistance_mi\u001b[39m\u001b[38;5;124m'\u001b[39m] \u001b[38;5;241m=\u001b[39m distances\n\u001b[0;32m     10\u001b[0m df\u001b[38;5;241m.\u001b[39mhead()\n",
      "File \u001b[1;32mc:\\Users\\Chase\\anaconda3\\Lib\\site-packages\\pandas\\io\\parsers\\readers.py:948\u001b[0m, in \u001b[0;36mread_csv\u001b[1;34m(filepath_or_buffer, sep, delimiter, header, names, index_col, usecols, dtype, engine, converters, true_values, false_values, skipinitialspace, skiprows, skipfooter, nrows, na_values, keep_default_na, na_filter, verbose, skip_blank_lines, parse_dates, infer_datetime_format, keep_date_col, date_parser, date_format, dayfirst, cache_dates, iterator, chunksize, compression, thousands, decimal, lineterminator, quotechar, quoting, doublequote, escapechar, comment, encoding, encoding_errors, dialect, on_bad_lines, delim_whitespace, low_memory, memory_map, float_precision, storage_options, dtype_backend)\u001b[0m\n\u001b[0;32m    935\u001b[0m kwds_defaults \u001b[38;5;241m=\u001b[39m _refine_defaults_read(\n\u001b[0;32m    936\u001b[0m     dialect,\n\u001b[0;32m    937\u001b[0m     delimiter,\n\u001b[1;32m   (...)\u001b[0m\n\u001b[0;32m    944\u001b[0m     dtype_backend\u001b[38;5;241m=\u001b[39mdtype_backend,\n\u001b[0;32m    945\u001b[0m )\n\u001b[0;32m    946\u001b[0m kwds\u001b[38;5;241m.\u001b[39mupdate(kwds_defaults)\n\u001b[1;32m--> 948\u001b[0m \u001b[38;5;28;01mreturn\u001b[39;00m _read(filepath_or_buffer, kwds)\n",
      "File \u001b[1;32mc:\\Users\\Chase\\anaconda3\\Lib\\site-packages\\pandas\\io\\parsers\\readers.py:611\u001b[0m, in \u001b[0;36m_read\u001b[1;34m(filepath_or_buffer, kwds)\u001b[0m\n\u001b[0;32m    608\u001b[0m _validate_names(kwds\u001b[38;5;241m.\u001b[39mget(\u001b[38;5;124m\"\u001b[39m\u001b[38;5;124mnames\u001b[39m\u001b[38;5;124m\"\u001b[39m, \u001b[38;5;28;01mNone\u001b[39;00m))\n\u001b[0;32m    610\u001b[0m \u001b[38;5;66;03m# Create the parser.\u001b[39;00m\n\u001b[1;32m--> 611\u001b[0m parser \u001b[38;5;241m=\u001b[39m TextFileReader(filepath_or_buffer, \u001b[38;5;241m*\u001b[39m\u001b[38;5;241m*\u001b[39mkwds)\n\u001b[0;32m    613\u001b[0m \u001b[38;5;28;01mif\u001b[39;00m chunksize \u001b[38;5;129;01mor\u001b[39;00m iterator:\n\u001b[0;32m    614\u001b[0m     \u001b[38;5;28;01mreturn\u001b[39;00m parser\n",
      "File \u001b[1;32mc:\\Users\\Chase\\anaconda3\\Lib\\site-packages\\pandas\\io\\parsers\\readers.py:1448\u001b[0m, in \u001b[0;36mTextFileReader.__init__\u001b[1;34m(self, f, engine, **kwds)\u001b[0m\n\u001b[0;32m   1445\u001b[0m     \u001b[38;5;28mself\u001b[39m\u001b[38;5;241m.\u001b[39moptions[\u001b[38;5;124m\"\u001b[39m\u001b[38;5;124mhas_index_names\u001b[39m\u001b[38;5;124m\"\u001b[39m] \u001b[38;5;241m=\u001b[39m kwds[\u001b[38;5;124m\"\u001b[39m\u001b[38;5;124mhas_index_names\u001b[39m\u001b[38;5;124m\"\u001b[39m]\n\u001b[0;32m   1447\u001b[0m \u001b[38;5;28mself\u001b[39m\u001b[38;5;241m.\u001b[39mhandles: IOHandles \u001b[38;5;241m|\u001b[39m \u001b[38;5;28;01mNone\u001b[39;00m \u001b[38;5;241m=\u001b[39m \u001b[38;5;28;01mNone\u001b[39;00m\n\u001b[1;32m-> 1448\u001b[0m \u001b[38;5;28mself\u001b[39m\u001b[38;5;241m.\u001b[39m_engine \u001b[38;5;241m=\u001b[39m \u001b[38;5;28mself\u001b[39m\u001b[38;5;241m.\u001b[39m_make_engine(f, \u001b[38;5;28mself\u001b[39m\u001b[38;5;241m.\u001b[39mengine)\n",
      "File \u001b[1;32mc:\\Users\\Chase\\anaconda3\\Lib\\site-packages\\pandas\\io\\parsers\\readers.py:1705\u001b[0m, in \u001b[0;36mTextFileReader._make_engine\u001b[1;34m(self, f, engine)\u001b[0m\n\u001b[0;32m   1703\u001b[0m     \u001b[38;5;28;01mif\u001b[39;00m \u001b[38;5;124m\"\u001b[39m\u001b[38;5;124mb\u001b[39m\u001b[38;5;124m\"\u001b[39m \u001b[38;5;129;01mnot\u001b[39;00m \u001b[38;5;129;01min\u001b[39;00m mode:\n\u001b[0;32m   1704\u001b[0m         mode \u001b[38;5;241m+\u001b[39m\u001b[38;5;241m=\u001b[39m \u001b[38;5;124m\"\u001b[39m\u001b[38;5;124mb\u001b[39m\u001b[38;5;124m\"\u001b[39m\n\u001b[1;32m-> 1705\u001b[0m \u001b[38;5;28mself\u001b[39m\u001b[38;5;241m.\u001b[39mhandles \u001b[38;5;241m=\u001b[39m get_handle(\n\u001b[0;32m   1706\u001b[0m     f,\n\u001b[0;32m   1707\u001b[0m     mode,\n\u001b[0;32m   1708\u001b[0m     encoding\u001b[38;5;241m=\u001b[39m\u001b[38;5;28mself\u001b[39m\u001b[38;5;241m.\u001b[39moptions\u001b[38;5;241m.\u001b[39mget(\u001b[38;5;124m\"\u001b[39m\u001b[38;5;124mencoding\u001b[39m\u001b[38;5;124m\"\u001b[39m, \u001b[38;5;28;01mNone\u001b[39;00m),\n\u001b[0;32m   1709\u001b[0m     compression\u001b[38;5;241m=\u001b[39m\u001b[38;5;28mself\u001b[39m\u001b[38;5;241m.\u001b[39moptions\u001b[38;5;241m.\u001b[39mget(\u001b[38;5;124m\"\u001b[39m\u001b[38;5;124mcompression\u001b[39m\u001b[38;5;124m\"\u001b[39m, \u001b[38;5;28;01mNone\u001b[39;00m),\n\u001b[0;32m   1710\u001b[0m     memory_map\u001b[38;5;241m=\u001b[39m\u001b[38;5;28mself\u001b[39m\u001b[38;5;241m.\u001b[39moptions\u001b[38;5;241m.\u001b[39mget(\u001b[38;5;124m\"\u001b[39m\u001b[38;5;124mmemory_map\u001b[39m\u001b[38;5;124m\"\u001b[39m, \u001b[38;5;28;01mFalse\u001b[39;00m),\n\u001b[0;32m   1711\u001b[0m     is_text\u001b[38;5;241m=\u001b[39mis_text,\n\u001b[0;32m   1712\u001b[0m     errors\u001b[38;5;241m=\u001b[39m\u001b[38;5;28mself\u001b[39m\u001b[38;5;241m.\u001b[39moptions\u001b[38;5;241m.\u001b[39mget(\u001b[38;5;124m\"\u001b[39m\u001b[38;5;124mencoding_errors\u001b[39m\u001b[38;5;124m\"\u001b[39m, \u001b[38;5;124m\"\u001b[39m\u001b[38;5;124mstrict\u001b[39m\u001b[38;5;124m\"\u001b[39m),\n\u001b[0;32m   1713\u001b[0m     storage_options\u001b[38;5;241m=\u001b[39m\u001b[38;5;28mself\u001b[39m\u001b[38;5;241m.\u001b[39moptions\u001b[38;5;241m.\u001b[39mget(\u001b[38;5;124m\"\u001b[39m\u001b[38;5;124mstorage_options\u001b[39m\u001b[38;5;124m\"\u001b[39m, \u001b[38;5;28;01mNone\u001b[39;00m),\n\u001b[0;32m   1714\u001b[0m )\n\u001b[0;32m   1715\u001b[0m \u001b[38;5;28;01massert\u001b[39;00m \u001b[38;5;28mself\u001b[39m\u001b[38;5;241m.\u001b[39mhandles \u001b[38;5;129;01mis\u001b[39;00m \u001b[38;5;129;01mnot\u001b[39;00m \u001b[38;5;28;01mNone\u001b[39;00m\n\u001b[0;32m   1716\u001b[0m f \u001b[38;5;241m=\u001b[39m \u001b[38;5;28mself\u001b[39m\u001b[38;5;241m.\u001b[39mhandles\u001b[38;5;241m.\u001b[39mhandle\n",
      "File \u001b[1;32mc:\\Users\\Chase\\anaconda3\\Lib\\site-packages\\pandas\\io\\common.py:863\u001b[0m, in \u001b[0;36mget_handle\u001b[1;34m(path_or_buf, mode, encoding, compression, memory_map, is_text, errors, storage_options)\u001b[0m\n\u001b[0;32m    858\u001b[0m \u001b[38;5;28;01melif\u001b[39;00m \u001b[38;5;28misinstance\u001b[39m(handle, \u001b[38;5;28mstr\u001b[39m):\n\u001b[0;32m    859\u001b[0m     \u001b[38;5;66;03m# Check whether the filename is to be opened in binary mode.\u001b[39;00m\n\u001b[0;32m    860\u001b[0m     \u001b[38;5;66;03m# Binary mode does not support 'encoding' and 'newline'.\u001b[39;00m\n\u001b[0;32m    861\u001b[0m     \u001b[38;5;28;01mif\u001b[39;00m ioargs\u001b[38;5;241m.\u001b[39mencoding \u001b[38;5;129;01mand\u001b[39;00m \u001b[38;5;124m\"\u001b[39m\u001b[38;5;124mb\u001b[39m\u001b[38;5;124m\"\u001b[39m \u001b[38;5;129;01mnot\u001b[39;00m \u001b[38;5;129;01min\u001b[39;00m ioargs\u001b[38;5;241m.\u001b[39mmode:\n\u001b[0;32m    862\u001b[0m         \u001b[38;5;66;03m# Encoding\u001b[39;00m\n\u001b[1;32m--> 863\u001b[0m         handle \u001b[38;5;241m=\u001b[39m \u001b[38;5;28mopen\u001b[39m(\n\u001b[0;32m    864\u001b[0m             handle,\n\u001b[0;32m    865\u001b[0m             ioargs\u001b[38;5;241m.\u001b[39mmode,\n\u001b[0;32m    866\u001b[0m             encoding\u001b[38;5;241m=\u001b[39mioargs\u001b[38;5;241m.\u001b[39mencoding,\n\u001b[0;32m    867\u001b[0m             errors\u001b[38;5;241m=\u001b[39merrors,\n\u001b[0;32m    868\u001b[0m             newline\u001b[38;5;241m=\u001b[39m\u001b[38;5;124m\"\u001b[39m\u001b[38;5;124m\"\u001b[39m,\n\u001b[0;32m    869\u001b[0m         )\n\u001b[0;32m    870\u001b[0m     \u001b[38;5;28;01melse\u001b[39;00m:\n\u001b[0;32m    871\u001b[0m         \u001b[38;5;66;03m# Binary mode\u001b[39;00m\n\u001b[0;32m    872\u001b[0m         handle \u001b[38;5;241m=\u001b[39m \u001b[38;5;28mopen\u001b[39m(handle, ioargs\u001b[38;5;241m.\u001b[39mmode)\n",
      "\u001b[1;31mFileNotFoundError\u001b[0m: [Errno 2] No such file or directory: '../../data/raw-data/dc_bike_routes.csv'"
     ]
    }
   ],
   "source": [
    "# # ------------------------------------ IMPORTS ------------------------------------ #\n",
    "import pandas as pd\n",
    "import numpy as np\n",
    "from nltk.sentiment import SentimentIntensityAnalyzer\n",
    "# After scraping data from the site, an automatic detector blocked the IP address but we got distances from the site admin\n",
    "distances = [10,11,12,13,14,16,17,18,19,20,21,23,23,24,25,25,25,26,27,27,27,30,33,34,37,38,38,40,44,45,46,47,50,55,56,67,72,75,80,104,105,106,184]\n",
    "# Read in data\n",
    "df = pd.read_csv('../../data/raw-data/dc_bike_routes.csv')\n",
    "df['distance_mi'] = distances\n",
    "df.head()\n",
    "# Split location from description to make its own column. All are formatted the same so we split on the first \"-\"\n",
    "df[['location', 'description']] = df['description'].str.split(\"-\", n=1, expand=True)\n",
    "\n",
    "# ------------------------------------ CREATE COLUMNS ------------------------------------ #\n",
    "# Create dictionary of binary columns to add\n",
    "# For each column we define what text to look for in the description\n",
    "keywords = {\n",
    "    'unpaved': 'unpaved',\n",
    "    'flat': 'flat',\n",
    "    'workout': 'workout',\n",
    "    'park': 'park',\n",
    "    'river': 'river',\n",
    "    'loop': 'loop'\n",
    "}\n",
    "# Loop through the keywords and assign columns to the df\n",
    "for col_name, keyword in keywords.items():\n",
    "    # First lower case all characters, then use contains to see if the keyword appears in the string\n",
    "    # Search across both the description and name column, mostly for loop as many are named with loop\n",
    "    df[col_name] = df['description'].str.lower().str.contains(keyword, regex=True).astype(int) | \\\n",
    "        df['name'].str.lower().str.contains(keyword, regex=True).astype(int)\n",
    "    \n",
    "# ------------------------------------ SENTIMENT ------------------------------------ #\n",
    "# Initilize a sentiment analyzer object from nltk\n",
    "sia = SentimentIntensityAnalyzer()\n",
    "# Use sentiment analyzer to get the polarity scores of each description\n",
    "# Save the compound score for each trail as a new column\n",
    "df['sentiment'] = df['description'].apply(lambda x: sia.polarity_scores(x)['compound'])\n",
    "\n",
    "# ------------------------------------ ASSIGN STATES ------------------------------------ #\n",
    "# Define regions that fall within certain sates\n",
    "# After the first pass with just keywords, we researched to find which states the following regions were part off\n",
    "dc_regions = ['georgetown', 'northern suburbs']\n",
    "md_regions = ['greenbelt', 'gaithersburg', 'germantown', 'bethesda', 'poolesville', 'glen burnie', \\\n",
    "              'eastern suburbs', 'western suburbs', 'ashland', 'northern suburbs', 'northeast suburbs', \\\n",
    "                'cumberland']\n",
    "va_regions = ['arlington', 'alexandria', 'berryville', 'mount vernon', 'western suburbs']\n",
    "pa_regions = ['york']\n",
    "\n",
    "# Similar to adding the columns above we define the states and common words that would define them\n",
    "state_keywords = {\n",
    "    'DC': ['dc', 'd.c.', 'washington'] + dc_regions,  \n",
    "    'MD': ['md', 'maryland'] + md_regions,\n",
    "    'VA': ['va', 'virginia'] + va_regions,\n",
    "    'PA': ['pa', 'pennsylvania'] + pa_regions\n",
    "}\n",
    "# Define function to assign states to the routes\n",
    "def assign_states(location):\n",
    "    # make the locations lower case\n",
    "    location_lower = location.lower()\n",
    "    # initilize empty list to store possible states\n",
    "    possible_states = []\n",
    "    # iterate through the states and their keywords\n",
    "    for state, keywords in state_keywords.items():\n",
    "        # check if any of the keywords are in the provided location\n",
    "        if any(keyword in location_lower for keyword in keywords):\n",
    "            # if yes, assign the keywords state to the list of states\n",
    "            possible_states.append(state)\n",
    "    # Return the list of states\n",
    "    return possible_states\n",
    "# Use function above to assign states to each of the bike routes. \n",
    "df['state'] = df['location'].apply(assign_states)\n",
    "# Turn into seperate columns\n",
    "df[['state1','state2']] = pd.DataFrame(df['state'].to_list())\n",
    "# fill second state column with first state if only one state\n",
    "df['state2'] = df['state2'].fillna(df['state1'])\n",
    "\n",
    "# Normalize the mileage column\n",
    "df[\"distance_mi_norm\"] = (df[\"distance_mi\"] - np.mean(df[\"distance_mi\"])) / np.std(df[\"distance_mi\"])\n",
    "\n",
    "# ------------------------------------ FINALIZE ------------------------------------ #\n",
    "# drop description, location, and state columns\n",
    "df = df.drop(columns=['description', 'location', 'state'])\n",
    "# Check for NA\n",
    "df.isna().sum()\n",
    "# save to CSV\n",
    "df.to_csv('../../data/processed-data/dc_bike_routes.csv', index=False)"
   ]
  },
  {
   "cell_type": "code",
   "execution_count": null,
   "metadata": {},
   "outputs": [],
   "source": [
    "## Plot comparing the regular mileage distribution to the normalized one\n",
    "import matplotlib.pyplot as plt\n",
    "import seaborn as sns\n",
    "\n",
    "# Set up the plotting environment\n",
    "sns.set_theme(style=\"whitegrid\")\n",
    "\n",
    "# Create the figure and axes\n",
    "fig, ax = plt.subplots(1, 2, figsize=(12, 6), sharey=True)\n",
    "\n",
    "# Plot the original mileage distribution\n",
    "sns.histplot(df[\"distance_mi\"], kde=True, bins=10, ax=ax[0], color=\"blue\")\n",
    "ax[0].set_title(\"Original Mileage Distribution\")\n",
    "ax[0].set_xlabel(\"Distance (mi)\")\n",
    "ax[0].set_ylabel(\"Frequency\")\n",
    "\n",
    "# Plot the normalized mileage distribution\n",
    "sns.histplot(df[\"distance_mi_norm\"], kde=True, bins=10, ax=ax[1], color=\"green\")\n",
    "ax[1].set_title(\"Normalized Mileage Distribution\")\n",
    "ax[1].set_xlabel(\"Normalized Distance\")\n",
    "ax[1].set_ylabel(\"Frequency\")\n",
    "\n",
    "# Adjust layout and show the plot\n",
    "plt.tight_layout()\n",
    "plt.show()"
   ]
  }
 ],
 "metadata": {
  "kernelspec": {
   "display_name": "base",
   "language": "python",
   "name": "python3"
  },
  "language_info": {
   "codemirror_mode": {
    "name": "ipython",
    "version": 3
   },
   "file_extension": ".py",
   "mimetype": "text/x-python",
   "name": "python",
   "nbconvert_exporter": "python",
   "pygments_lexer": "ipython3",
   "version": "3.11.7"
  }
 },
 "nbformat": 4,
 "nbformat_minor": 2
}
