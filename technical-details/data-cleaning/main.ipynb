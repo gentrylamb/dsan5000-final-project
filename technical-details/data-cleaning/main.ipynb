{
 "cells": [
  {
   "cell_type": "markdown",
   "metadata": {},
   "source": [
    "---\n",
    "title: \"Data Cleaning\"\n",
    "format:\n",
    "    html: \n",
    "        code-fold: false\n",
    "---"
   ]
  },
  {
   "cell_type": "markdown",
   "metadata": {},
   "source": [
    "<!-- After digesting the instructions, you can delete this cell, these are assignment instructions and do not need to be included in your final submission.  -->\n",
    "\n",
    "{{< include instructions.qmd >}} "
   ]
  },
  {
   "cell_type": "markdown",
   "metadata": {},
   "source": [
    "# Code "
   ]
  },
  {
   "cell_type": "code",
   "execution_count": 2,
   "metadata": {},
   "outputs": [],
   "source": [
    "# # ------------------------------------ IMPORTS ------------------------------------ #\n",
    "import pandas as pd\n",
    "from nltk.sentiment import SentimentIntensityAnalyzer\n",
    "# After scraping data from the site, an automatic detector blocked the IP address but we got distances from the site admin\n",
    "distances = [10,11,12,13,14,16,17,18,19,20,21,23,23,24,25,25,25,26,27,27,27,30,33,34,37,38,38,40,44,45,46,47,50,55,56,67,72,75,80,104,105,106,184]\n",
    "# Read in data\n",
    "df = pd.read_csv('../../data/raw-data/dc_bike_routes.csv')\n",
    "df['distance_mi'] = distances\n",
    "df.head()\n",
    "# Split location from description to make its own column. All are formatted the same so we split on the first \"-\"\n",
    "df[['location', 'description']] = df['description'].str.split(\"-\", n=1, expand=True)\n",
    "\n",
    "# ------------------------------------ CREATE COLUMNS ------------------------------------ #\n",
    "# Create dictionary of binary columns to add\n",
    "# For each column we define what text to look for in the description\n",
    "keywords = {\n",
    "    'unpaved': 'unpaved',\n",
    "    'flat': 'flat',\n",
    "    'workout': 'workout',\n",
    "    'park': 'park',\n",
    "    'river': 'river',\n",
    "    'loop': 'loop'\n",
    "}\n",
    "# Loop through the keywords and assign columns to the df\n",
    "for col_name, keyword in keywords.items():\n",
    "    # First lower case all characters, then use contains to see if the keyword appears in the string\n",
    "    # Search across both the description and name column, mostly for loop as many are named with loop\n",
    "    df[col_name] = df['description'].str.lower().str.contains(keyword, regex=True).astype(int) | \\\n",
    "        df['name'].str.lower().str.contains(keyword, regex=True).astype(int)\n",
    "    \n",
    "# ------------------------------------ SENTIMENT ------------------------------------ #\n",
    "# Initilize a sentiment analyzer object from nltk\n",
    "sia = SentimentIntensityAnalyzer()\n",
    "# Use sentiment analyzer to get the polarity scores of each description\n",
    "# Save the compound score for each trail as a new column\n",
    "df['sentiment'] = df['description'].apply(lambda x: sia.polarity_scores(x)['compound'])\n",
    "\n",
    "# ------------------------------------ ASSIGN STATES ------------------------------------ #\n",
    "# Define regions that fall within certain sates\n",
    "# After the first pass with just keywords, we researched to find which states the following regions were part off\n",
    "dc_regions = ['georgetown', 'northern suburbs']\n",
    "md_regions = ['greenbelt', 'gaithersburg', 'germantown', 'bethesda', 'poolesville', 'glen burnie', \\\n",
    "              'eastern suburbs', 'western suburbs', 'ashland', 'northern suburbs', 'northeast suburbs', \\\n",
    "                'cumberland']\n",
    "va_regions = ['arlington', 'alexandria', 'berryville', 'mount vernon', 'western suburbs']\n",
    "pa_regions = ['york']\n",
    "\n",
    "# Similar to adding the columns above we define the states and common words that would define them\n",
    "state_keywords = {\n",
    "    'DC': ['dc', 'd.c.', 'washington'] + dc_regions,  \n",
    "    'MD': ['md', 'maryland'] + md_regions,\n",
    "    'VA': ['va', 'virginia'] + va_regions,\n",
    "    'PA': ['pa', 'pennsylvania'] + pa_regions\n",
    "}\n",
    "# Define function to assign states to the routes\n",
    "def assign_states(location):\n",
    "    # make the locations lower case\n",
    "    location_lower = location.lower()\n",
    "    # initilize empty list to store possible states\n",
    "    possible_states = []\n",
    "    # iterate through the states and their keywords\n",
    "    for state, keywords in state_keywords.items():\n",
    "        # check if any of the keywords are in the provided location\n",
    "        if any(keyword in location_lower for keyword in keywords):\n",
    "            # if yes, assign the keywords state to the list of states\n",
    "            possible_states.append(state)\n",
    "    # Return the list of states\n",
    "    return possible_states\n",
    "# Use function above to assign states to each of the bike routes. \n",
    "df['state'] = df['location'].apply(assign_states)\n",
    "# Turn into seperate columns\n",
    "df[['state1','state2']] = pd.DataFrame(df['state'].to_list())\n",
    "# fill second state column with first state if only one state\n",
    "df['state2'] = df['state2'].fillna(df['state1'])\n",
    "\n",
    "# ------------------------------------ FINALIZE ------------------------------------ #\n",
    "# drop description, location, and state columns\n",
    "df = df.drop(columns=['description', 'location', 'state'])\n",
    "# Check for NA\n",
    "df.isna().sum()\n",
    "# save to CSV\n",
    "df.to_csv('../../data/processed-data/dc_bike_routes.csv', index=False)"
   ]
  }
 ],
 "metadata": {
  "kernelspec": {
   "display_name": "base",
   "language": "python",
   "name": "python3"
  },
  "language_info": {
   "codemirror_mode": {
    "name": "ipython",
    "version": 3
   },
   "file_extension": ".py",
   "mimetype": "text/x-python",
   "name": "python",
   "nbconvert_exporter": "python",
   "pygments_lexer": "ipython3",
   "version": "3.12.5"
  }
 },
 "nbformat": 4,
 "nbformat_minor": 2
}
